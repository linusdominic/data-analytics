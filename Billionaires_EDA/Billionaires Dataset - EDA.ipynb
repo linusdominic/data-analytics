{
 "cells": [
  {
   "cell_type": "markdown",
   "metadata": {},
   "source": [
    "# Billionaires Dataset - EDA"
   ]
  },
  {
   "cell_type": "code",
   "execution_count": 1,
   "metadata": {},
   "outputs": [],
   "source": [
    "import pandas as pd"
   ]
  },
  {
   "cell_type": "code",
   "execution_count": 2,
   "metadata": {},
   "outputs": [],
   "source": [
    "\n",
    "filename = 'Billionaire.csv'\n",
    "complete_filepath =filename \n",
    "data = pd.read_csv(complete_filepath)"
   ]
  },
  {
   "cell_type": "markdown",
   "metadata": {},
   "source": [
    "### Part 1 Data Exploration"
   ]
  },
  {
   "cell_type": "code",
   "execution_count": 4,
   "metadata": {
    "scrolled": true
   },
   "outputs": [
    {
     "data": {
      "text/html": [
       "<div>\n",
       "<style scoped>\n",
       "    .dataframe tbody tr th:only-of-type {\n",
       "        vertical-align: middle;\n",
       "    }\n",
       "\n",
       "    .dataframe tbody tr th {\n",
       "        vertical-align: top;\n",
       "    }\n",
       "\n",
       "    .dataframe thead th {\n",
       "        text-align: right;\n",
       "    }\n",
       "</style>\n",
       "<table border=\"1\" class=\"dataframe\">\n",
       "  <thead>\n",
       "    <tr style=\"text-align: right;\">\n",
       "      <th></th>\n",
       "      <th>Name</th>\n",
       "      <th>NetWorth</th>\n",
       "      <th>Country</th>\n",
       "      <th>Source</th>\n",
       "      <th>Rank</th>\n",
       "    </tr>\n",
       "  </thead>\n",
       "  <tbody>\n",
       "    <tr>\n",
       "      <th>0</th>\n",
       "      <td>Jeff Bezos</td>\n",
       "      <td>$177 B</td>\n",
       "      <td>United States</td>\n",
       "      <td>Amazon</td>\n",
       "      <td>1</td>\n",
       "    </tr>\n",
       "    <tr>\n",
       "      <th>1</th>\n",
       "      <td>Elon Musk</td>\n",
       "      <td>$151 B</td>\n",
       "      <td>United States</td>\n",
       "      <td>Tesla, SpaceX</td>\n",
       "      <td>2</td>\n",
       "    </tr>\n",
       "    <tr>\n",
       "      <th>2</th>\n",
       "      <td>Bernard Arnault &amp; family</td>\n",
       "      <td>$150 B</td>\n",
       "      <td>France</td>\n",
       "      <td>LVMH</td>\n",
       "      <td>3</td>\n",
       "    </tr>\n",
       "    <tr>\n",
       "      <th>3</th>\n",
       "      <td>Bill Gates</td>\n",
       "      <td>$124 B</td>\n",
       "      <td>United States</td>\n",
       "      <td>Microsoft</td>\n",
       "      <td>4</td>\n",
       "    </tr>\n",
       "    <tr>\n",
       "      <th>4</th>\n",
       "      <td>Mark Zuckerberg</td>\n",
       "      <td>$97 B</td>\n",
       "      <td>United States</td>\n",
       "      <td>Facebook</td>\n",
       "      <td>5</td>\n",
       "    </tr>\n",
       "  </tbody>\n",
       "</table>\n",
       "</div>"
      ],
      "text/plain": [
       "                       Name NetWorth        Country         Source  Rank\n",
       "0                Jeff Bezos   $177 B  United States         Amazon     1\n",
       "1                 Elon Musk   $151 B  United States  Tesla, SpaceX     2\n",
       "2  Bernard Arnault & family   $150 B         France           LVMH     3\n",
       "3                Bill Gates   $124 B  United States      Microsoft     4\n",
       "4           Mark Zuckerberg    $97 B  United States       Facebook     5"
      ]
     },
     "execution_count": 4,
     "metadata": {},
     "output_type": "execute_result"
    }
   ],
   "source": [
    "data.head()"
   ]
  },
  {
   "cell_type": "code",
   "execution_count": 5,
   "metadata": {},
   "outputs": [
    {
     "data": {
      "text/plain": [
       "(2755, 5)"
      ]
     },
     "execution_count": 5,
     "metadata": {},
     "output_type": "execute_result"
    }
   ],
   "source": [
    "data.shape"
   ]
  },
  {
   "cell_type": "code",
   "execution_count": 6,
   "metadata": {},
   "outputs": [
    {
     "data": {
      "text/plain": [
       "Index(['Name', 'NetWorth', 'Country', 'Source', 'Rank'], dtype='object')"
      ]
     },
     "execution_count": 6,
     "metadata": {},
     "output_type": "execute_result"
    }
   ],
   "source": [
    "data.columns"
   ]
  },
  {
   "cell_type": "markdown",
   "metadata": {},
   "source": [
    "#### Questions to Ask About Data\n",
    "\n",
    "So we have names, the networth, the country of origin, source of income and ranking for all these billionaires. When you have any datasets, there are some fundamental questions you would want to ask yourself and then find those answers within the data. For instance, for our dataset we can ask ourselves:\n",
    "1. How many billionaires are there in the list?\n",
    "2. Who are the top 10 billionaire?\n",
    "3. Who are the top billionaire by country of origin?\n",
    "4. What country has the highest number of billionaires?\n",
    "5. What country has the least number of billionaires?\n",
    "6. What is the average and median networth of each billionaire?\n",
    "7. Are there any outliers i.e. billionaires that have exceptionally high networth compared to others?\n",
    "8. For each country, what is the cumulative networth of its billionaires?\n",
    "9. What is the maximum and minimum networth of billionaires overall and by country?\n",
    "10. Are there are any billionaires with the same source of income? "
   ]
  },
  {
   "cell_type": "markdown",
   "metadata": {},
   "source": [
    "#### But First, Data Cleaning \n",
    "\n",
    "Before we dive into answering these questions, we need to make sure of the following (and this applies to all datasets that you will encounter in future so keep this checklist in mind):\n",
    "1. are there any null or missing values in the data?\n",
    "2. are the data types of each column what you are expecting it to be?\n",
    "\n",
    "Let's tackle these questions one by one. \n",
    "\n"
   ]
  },
  {
   "cell_type": "markdown",
   "metadata": {},
   "source": [
    "#### Handling Missing Values"
   ]
  },
  {
   "cell_type": "code",
   "execution_count": 7,
   "metadata": {},
   "outputs": [
    {
     "data": {
      "text/html": [
       "<div>\n",
       "<style scoped>\n",
       "    .dataframe tbody tr th:only-of-type {\n",
       "        vertical-align: middle;\n",
       "    }\n",
       "\n",
       "    .dataframe tbody tr th {\n",
       "        vertical-align: top;\n",
       "    }\n",
       "\n",
       "    .dataframe thead th {\n",
       "        text-align: right;\n",
       "    }\n",
       "</style>\n",
       "<table border=\"1\" class=\"dataframe\">\n",
       "  <thead>\n",
       "    <tr style=\"text-align: right;\">\n",
       "      <th></th>\n",
       "      <th>Name</th>\n",
       "      <th>NetWorth</th>\n",
       "      <th>Country</th>\n",
       "      <th>Source</th>\n",
       "      <th>Rank</th>\n",
       "    </tr>\n",
       "  </thead>\n",
       "  <tbody>\n",
       "    <tr>\n",
       "      <th>0</th>\n",
       "      <td>False</td>\n",
       "      <td>False</td>\n",
       "      <td>False</td>\n",
       "      <td>False</td>\n",
       "      <td>False</td>\n",
       "    </tr>\n",
       "    <tr>\n",
       "      <th>1</th>\n",
       "      <td>False</td>\n",
       "      <td>False</td>\n",
       "      <td>False</td>\n",
       "      <td>False</td>\n",
       "      <td>False</td>\n",
       "    </tr>\n",
       "    <tr>\n",
       "      <th>2</th>\n",
       "      <td>False</td>\n",
       "      <td>False</td>\n",
       "      <td>False</td>\n",
       "      <td>False</td>\n",
       "      <td>False</td>\n",
       "    </tr>\n",
       "    <tr>\n",
       "      <th>3</th>\n",
       "      <td>False</td>\n",
       "      <td>False</td>\n",
       "      <td>False</td>\n",
       "      <td>False</td>\n",
       "      <td>False</td>\n",
       "    </tr>\n",
       "    <tr>\n",
       "      <th>4</th>\n",
       "      <td>False</td>\n",
       "      <td>False</td>\n",
       "      <td>False</td>\n",
       "      <td>False</td>\n",
       "      <td>False</td>\n",
       "    </tr>\n",
       "    <tr>\n",
       "      <th>...</th>\n",
       "      <td>...</td>\n",
       "      <td>...</td>\n",
       "      <td>...</td>\n",
       "      <td>...</td>\n",
       "      <td>...</td>\n",
       "    </tr>\n",
       "    <tr>\n",
       "      <th>2750</th>\n",
       "      <td>False</td>\n",
       "      <td>False</td>\n",
       "      <td>False</td>\n",
       "      <td>False</td>\n",
       "      <td>False</td>\n",
       "    </tr>\n",
       "    <tr>\n",
       "      <th>2751</th>\n",
       "      <td>False</td>\n",
       "      <td>False</td>\n",
       "      <td>False</td>\n",
       "      <td>False</td>\n",
       "      <td>False</td>\n",
       "    </tr>\n",
       "    <tr>\n",
       "      <th>2752</th>\n",
       "      <td>False</td>\n",
       "      <td>False</td>\n",
       "      <td>False</td>\n",
       "      <td>False</td>\n",
       "      <td>False</td>\n",
       "    </tr>\n",
       "    <tr>\n",
       "      <th>2753</th>\n",
       "      <td>False</td>\n",
       "      <td>False</td>\n",
       "      <td>False</td>\n",
       "      <td>False</td>\n",
       "      <td>False</td>\n",
       "    </tr>\n",
       "    <tr>\n",
       "      <th>2754</th>\n",
       "      <td>False</td>\n",
       "      <td>False</td>\n",
       "      <td>False</td>\n",
       "      <td>False</td>\n",
       "      <td>False</td>\n",
       "    </tr>\n",
       "  </tbody>\n",
       "</table>\n",
       "<p>2755 rows × 5 columns</p>\n",
       "</div>"
      ],
      "text/plain": [
       "       Name  NetWorth  Country  Source   Rank\n",
       "0     False     False    False   False  False\n",
       "1     False     False    False   False  False\n",
       "2     False     False    False   False  False\n",
       "3     False     False    False   False  False\n",
       "4     False     False    False   False  False\n",
       "...     ...       ...      ...     ...    ...\n",
       "2750  False     False    False   False  False\n",
       "2751  False     False    False   False  False\n",
       "2752  False     False    False   False  False\n",
       "2753  False     False    False   False  False\n",
       "2754  False     False    False   False  False\n",
       "\n",
       "[2755 rows x 5 columns]"
      ]
     },
     "execution_count": 7,
     "metadata": {},
     "output_type": "execute_result"
    }
   ],
   "source": [
    "data.isna()"
   ]
  },
  {
   "cell_type": "code",
   "execution_count": 8,
   "metadata": {},
   "outputs": [
    {
     "data": {
      "text/plain": [
       "Name        False\n",
       "NetWorth    False\n",
       "Country     False\n",
       "Source      False\n",
       "Rank        False\n",
       "dtype: bool"
      ]
     },
     "execution_count": 8,
     "metadata": {},
     "output_type": "execute_result"
    }
   ],
   "source": [
    "data.isna().any()"
   ]
  },
  {
   "cell_type": "markdown",
   "metadata": {},
   "source": [
    "Great. So there are no missing values in our dataset. What if there had been how would we handle that?\n",
    "This requires a bit of thought process on your part. since we have individual billionaires, and if there were missing values say in country of origin, you would have to manually search and fill those spaces since no mathematical option (such as using averages) would make sense. Or you could ideally just drop those values specially if their ranks are in the lower half of the dataset for instance. "
   ]
  },
  {
   "cell_type": "code",
   "execution_count": 10,
   "metadata": {},
   "outputs": [
    {
     "name": "stdout",
     "output_type": "stream",
     "text": [
      "(2755, 5)\n"
     ]
    }
   ],
   "source": [
    "# since our data does not have any nan values, using dropna() makes no difference.\n",
    "# we see no difference is made since the data is still the same shape\n",
    "dropped_data = data.dropna()\n",
    "print(dropped_data.shape)"
   ]
  },
  {
   "cell_type": "code",
   "execution_count": 11,
   "metadata": {},
   "outputs": [
    {
     "data": {
      "text/plain": [
       "True"
      ]
     },
     "execution_count": 11,
     "metadata": {},
     "output_type": "execute_result"
    }
   ],
   "source": [
    "data.equals(dropped_data)"
   ]
  },
  {
   "cell_type": "markdown",
   "metadata": {},
   "source": [
    "#### Handling Data Types"
   ]
  },
  {
   "cell_type": "markdown",
   "metadata": {},
   "source": [
    "We need to ensure that data has the right type to perform calculations on. There are two columns in our dataset that are numeric i.e. `Rank` and `Networth`. "
   ]
  },
  {
   "cell_type": "code",
   "execution_count": 18,
   "metadata": {},
   "outputs": [
    {
     "name": "stdout",
     "output_type": "stream",
     "text": [
      "<class 'pandas.core.frame.DataFrame'>\n",
      "RangeIndex: 2755 entries, 0 to 2754\n",
      "Data columns (total 5 columns):\n",
      " #   Column    Non-Null Count  Dtype \n",
      "---  ------    --------------  ----- \n",
      " 0   Name      2755 non-null   object\n",
      " 1   NetWorth  2755 non-null   object\n",
      " 2   Country   2755 non-null   object\n",
      " 3   Source    2755 non-null   object\n",
      " 4   Rank      2755 non-null   int64 \n",
      "dtypes: int64(1), object(4)\n",
      "memory usage: 107.7+ KB\n"
     ]
    }
   ],
   "source": [
    "data.info()"
   ]
  },
  {
   "cell_type": "markdown",
   "metadata": {},
   "source": [
    "We see that Rank has the right data type i.e. int64 (which is the same as integer). However, NetWorth has a datatype of object, while it should be float or integer. Let's focus on this column first and fix its data type."
   ]
  },
  {
   "cell_type": "code",
   "execution_count": 19,
   "metadata": {},
   "outputs": [
    {
     "data": {
      "text/plain": [
       "0       $177 B\n",
       "1       $151 B\n",
       "2       $150 B\n",
       "3       $124 B\n",
       "4        $97 B\n",
       "         ...  \n",
       "2750      $1 B\n",
       "2751      $1 B\n",
       "2752      $1 B\n",
       "2753      $1 B\n",
       "2754      $1 B\n",
       "Name: NetWorth, Length: 2755, dtype: object"
      ]
     },
     "execution_count": 19,
     "metadata": {},
     "output_type": "execute_result"
    }
   ],
   "source": [
    "# look at data for Networth column \n",
    "data['NetWorth']"
   ]
  },
  {
   "cell_type": "code",
   "execution_count": 20,
   "metadata": {},
   "outputs": [
    {
     "name": "stdout",
     "output_type": "stream",
     "text": [
      "<class 'str'>\n"
     ]
    }
   ],
   "source": [
    "# let's look at the data type of one of the values.\n",
    "first_value = data['NetWorth'].iloc[0]\n",
    "\n",
    "print(type(first_value))"
   ]
  },
  {
   "cell_type": "markdown",
   "metadata": {},
   "source": [
    "We see that it has $ and B to represent column values as currency. However, they also prevent it from being interpreted as numeric values. We can fix that by creating a new column that only contains the numeric content of this column. Currently, object data type is basically string so we need to cut down the string to only take the numeric value out of it."
   ]
  },
  {
   "cell_type": "code",
   "execution_count": 21,
   "metadata": {},
   "outputs": [
    {
     "name": "stdout",
     "output_type": "stream",
     "text": [
      "$\n",
      "177 B\n"
     ]
    }
   ],
   "source": [
    "# let's test our logic by subsetting the first value to acquire the numeric content. \n",
    "# Strings can be subset like arrays so here, if we use [0] we can access the first item of this string which is a $\n",
    "print(first_value[0])\n",
    "print(first_value[1:])"
   ]
  },
  {
   "cell_type": "code",
   "execution_count": 22,
   "metadata": {},
   "outputs": [
    {
     "data": {
      "text/plain": [
       "' B'"
      ]
     },
     "execution_count": 22,
     "metadata": {},
     "output_type": "execute_result"
    }
   ],
   "source": [
    "# similarly, the last two values are a space and a B\n",
    "first_value[-2:]"
   ]
  },
  {
   "cell_type": "code",
   "execution_count": 23,
   "metadata": {},
   "outputs": [
    {
     "name": "stdout",
     "output_type": "stream",
     "text": [
      "177\n",
      "<class 'str'>\n"
     ]
    }
   ],
   "source": [
    "# so combining both these indexing, we get the numeric content. However, that would still be string type\n",
    "subset = first_value[1:-2]\n",
    "print(subset)\n",
    "print(type(subset))"
   ]
  },
  {
   "cell_type": "code",
   "execution_count": 24,
   "metadata": {},
   "outputs": [
    {
     "data": {
      "text/plain": [
       "float"
      ]
     },
     "execution_count": 24,
     "metadata": {},
     "output_type": "execute_result"
    }
   ],
   "source": [
    "# so we need one more step to convert this data type into numeric. \n",
    "converted = float(subset)\n",
    "type(converted)"
   ]
  },
  {
   "cell_type": "code",
   "execution_count": 15,
   "metadata": {},
   "outputs": [
    {
     "name": "stdout",
     "output_type": "stream",
     "text": [
      "0       177.0\n",
      "1       151.0\n",
      "2       150.0\n",
      "3       124.0\n",
      "4        97.0\n",
      "        ...  \n",
      "2750      1.0\n",
      "2751      1.0\n",
      "2752      1.0\n",
      "2753      1.0\n",
      "2754      1.0\n",
      "Name: NetWorth, Length: 2755, dtype: float64\n"
     ]
    }
   ],
   "source": [
    "# defining a user-defined function called fix_networth(value)\n",
    "# we already have the logic figured out, let's just copy the code here.\n",
    "def fix_networth(value):\n",
    "    subset = value[1:-2]\n",
    "    converted = float(subset)\n",
    "    return converted \n",
    "\n",
    "\n",
    "# this function takes one value at a time and fixes it to the format and data type we want. \n",
    "new_column = data['NetWorth'].apply(fix_networth)\n",
    "print(new_column)"
   ]
  },
  {
   "cell_type": "code",
   "execution_count": 16,
   "metadata": {},
   "outputs": [
    {
     "name": "stdout",
     "output_type": "stream",
     "text": [
      "<class 'pandas.core.frame.DataFrame'>\n",
      "RangeIndex: 2755 entries, 0 to 2754\n",
      "Data columns (total 6 columns):\n",
      " #   Column         Non-Null Count  Dtype  \n",
      "---  ------         --------------  -----  \n",
      " 0   Name           2755 non-null   object \n",
      " 1   NetWorth       2755 non-null   object \n",
      " 2   Country        2755 non-null   object \n",
      " 3   Source         2755 non-null   object \n",
      " 4   Rank           2755 non-null   int64  \n",
      " 5   NetWorth ($B)  2755 non-null   float64\n",
      "dtypes: float64(1), int64(1), object(4)\n",
      "memory usage: 129.3+ KB\n",
      "None\n"
     ]
    }
   ],
   "source": [
    "#Let's store it in a new column called ['NetWorth ($B)']\n",
    "data['NetWorth ($B)'] = new_column\n",
    "print(data.info())"
   ]
  },
  {
   "cell_type": "markdown",
   "metadata": {},
   "source": [
    "That's great! Now we are almost ready to get started to answering our questions. However, let's get rid of the old NetWorth column since its of no use to us anymore."
   ]
  },
  {
   "cell_type": "code",
   "execution_count": 17,
   "metadata": {},
   "outputs": [],
   "source": [
    "# drop old networth column\n",
    "data = data.drop(columns=['NetWorth'])"
   ]
  },
  {
   "cell_type": "code",
   "execution_count": 28,
   "metadata": {},
   "outputs": [
    {
     "data": {
      "text/html": [
       "<div>\n",
       "<style scoped>\n",
       "    .dataframe tbody tr th:only-of-type {\n",
       "        vertical-align: middle;\n",
       "    }\n",
       "\n",
       "    .dataframe tbody tr th {\n",
       "        vertical-align: top;\n",
       "    }\n",
       "\n",
       "    .dataframe thead th {\n",
       "        text-align: right;\n",
       "    }\n",
       "</style>\n",
       "<table border=\"1\" class=\"dataframe\">\n",
       "  <thead>\n",
       "    <tr style=\"text-align: right;\">\n",
       "      <th></th>\n",
       "      <th>Name</th>\n",
       "      <th>Country</th>\n",
       "      <th>Source</th>\n",
       "      <th>Rank</th>\n",
       "      <th>NetWorth ($B)</th>\n",
       "    </tr>\n",
       "  </thead>\n",
       "  <tbody>\n",
       "    <tr>\n",
       "      <th>0</th>\n",
       "      <td>Jeff Bezos</td>\n",
       "      <td>United States</td>\n",
       "      <td>Amazon</td>\n",
       "      <td>1</td>\n",
       "      <td>177.0</td>\n",
       "    </tr>\n",
       "    <tr>\n",
       "      <th>1</th>\n",
       "      <td>Elon Musk</td>\n",
       "      <td>United States</td>\n",
       "      <td>Tesla, SpaceX</td>\n",
       "      <td>2</td>\n",
       "      <td>151.0</td>\n",
       "    </tr>\n",
       "    <tr>\n",
       "      <th>2</th>\n",
       "      <td>Bernard Arnault &amp; family</td>\n",
       "      <td>France</td>\n",
       "      <td>LVMH</td>\n",
       "      <td>3</td>\n",
       "      <td>150.0</td>\n",
       "    </tr>\n",
       "    <tr>\n",
       "      <th>3</th>\n",
       "      <td>Bill Gates</td>\n",
       "      <td>United States</td>\n",
       "      <td>Microsoft</td>\n",
       "      <td>4</td>\n",
       "      <td>124.0</td>\n",
       "    </tr>\n",
       "    <tr>\n",
       "      <th>4</th>\n",
       "      <td>Mark Zuckerberg</td>\n",
       "      <td>United States</td>\n",
       "      <td>Facebook</td>\n",
       "      <td>5</td>\n",
       "      <td>97.0</td>\n",
       "    </tr>\n",
       "  </tbody>\n",
       "</table>\n",
       "</div>"
      ],
      "text/plain": [
       "                       Name        Country         Source  Rank  NetWorth ($B)\n",
       "0                Jeff Bezos  United States         Amazon     1          177.0\n",
       "1                 Elon Musk  United States  Tesla, SpaceX     2          151.0\n",
       "2  Bernard Arnault & family         France           LVMH     3          150.0\n",
       "3                Bill Gates  United States      Microsoft     4          124.0\n",
       "4           Mark Zuckerberg  United States       Facebook     5           97.0"
      ]
     },
     "execution_count": 28,
     "metadata": {},
     "output_type": "execute_result"
    }
   ],
   "source": [
    "data.head()"
   ]
  },
  {
   "cell_type": "markdown",
   "metadata": {},
   "source": [
    "Looking great! Let's dig in!"
   ]
  },
  {
   "cell_type": "markdown",
   "metadata": {},
   "source": [
    "### Answering Data Questions\n",
    "Re-stating our questions here for ease.\n",
    "1. How many billionaires are there in the list?\n",
    "2. Who are the top 10 billionaire?\n",
    "3. Who are the top billionaire by country of origin?\n",
    "4. What country has the highest number of billionaires?\n",
    "5. What country has the least number of billionaires?\n",
    "6. What is the average and median networth of each billionaire?\n",
    "7. Are there any outliers i.e. billionaires that have exceptionally high networth compared to others?\n",
    "8. For each country, what is the cumulative networth of its billionaires?\n",
    "9. What is the maximum and minimum networth of billionaires overall and by country?\n",
    "10. Are there are any billionaires with the same source of income? "
   ]
  },
  {
   "cell_type": "code",
   "execution_count": 12,
   "metadata": {},
   "outputs": [
    {
     "data": {
      "text/plain": [
       "array(['Jeff Bezos', 'Elon Musk', 'Bernard Arnault & family', ...,\n",
       "       'Zhao Meiguang', 'Zhong Naixiong', 'Zhou Wei family'], dtype=object)"
      ]
     },
     "execution_count": 12,
     "metadata": {},
     "output_type": "execute_result"
    }
   ],
   "source": [
    "# Our first question, how many Billionaires in our dataset?\n",
    "\n",
    "data['Name'].unique()"
   ]
  },
  {
   "cell_type": "code",
   "execution_count": 19,
   "metadata": {},
   "outputs": [
    {
     "data": {
      "text/plain": [
       "(2752,)"
      ]
     },
     "execution_count": 19,
     "metadata": {},
     "output_type": "execute_result"
    }
   ],
   "source": [
    "# this returns an array. \n",
    "unique_values = data['Name'].unique()\n",
    "unique_values.shape"
   ]
  },
  {
   "cell_type": "markdown",
   "metadata": {},
   "source": [
    "Looks like we had some duplicate values there. Back to data cleaning board.\n",
    "\n",
    "#### Data Cleaning, Again\n",
    "\n",
    "Now we have some duplicated values. We can use the duplicated() function to find out if there are any duplicates."
   ]
  },
  {
   "cell_type": "code",
   "execution_count": 20,
   "metadata": {},
   "outputs": [
    {
     "data": {
      "text/plain": [
       "0       False\n",
       "1       False\n",
       "2       False\n",
       "3       False\n",
       "4       False\n",
       "        ...  \n",
       "2750    False\n",
       "2751    False\n",
       "2752    False\n",
       "2753    False\n",
       "2754    False\n",
       "Name: Name, Length: 2755, dtype: bool"
      ]
     },
     "execution_count": 20,
     "metadata": {},
     "output_type": "execute_result"
    }
   ],
   "source": [
    "data['Name'].duplicated()"
   ]
  },
  {
   "cell_type": "markdown",
   "metadata": {},
   "source": [
    "That's a lot of Falses, but somewhere in there is a true. Now what we will do is use a new way to subset dataframe. We will use conditional **boolean masks** to retreive only those values that are marked duplicated by pandas. For that, we will use the following syntax\n",
    "\n",
    "`df[conditional expression]`\n",
    "\n",
    "That translates to:\n",
    "\n",
    "`data[data['Name'].duplicated()]`\n",
    "\n",
    "What this means is, return to us the original dataset where there are marked duplicates as we computed on the `Name` column.\n",
    "the `conditional expression` can be applied on any column within the dataframe. We will see more examples of this later. For now, let's see our duplicated values."
   ]
  },
  {
   "cell_type": "code",
   "execution_count": 21,
   "metadata": {},
   "outputs": [
    {
     "data": {
      "text/html": [
       "<div>\n",
       "<style scoped>\n",
       "    .dataframe tbody tr th:only-of-type {\n",
       "        vertical-align: middle;\n",
       "    }\n",
       "\n",
       "    .dataframe tbody tr th {\n",
       "        vertical-align: top;\n",
       "    }\n",
       "\n",
       "    .dataframe thead th {\n",
       "        text-align: right;\n",
       "    }\n",
       "</style>\n",
       "<table border=\"1\" class=\"dataframe\">\n",
       "  <thead>\n",
       "    <tr style=\"text-align: right;\">\n",
       "      <th></th>\n",
       "      <th>Name</th>\n",
       "      <th>Country</th>\n",
       "      <th>Source</th>\n",
       "      <th>Rank</th>\n",
       "      <th>NetWorth ($B)</th>\n",
       "    </tr>\n",
       "  </thead>\n",
       "  <tbody>\n",
       "    <tr>\n",
       "      <th>1625</th>\n",
       "      <td>Robert Miller</td>\n",
       "      <td>Canada</td>\n",
       "      <td>electronics components</td>\n",
       "      <td>1580</td>\n",
       "      <td>2.0</td>\n",
       "    </tr>\n",
       "    <tr>\n",
       "      <th>1919</th>\n",
       "      <td>Wang Yanqing &amp; family</td>\n",
       "      <td>China</td>\n",
       "      <td>carbon fiber products</td>\n",
       "      <td>1833</td>\n",
       "      <td>1.7</td>\n",
       "    </tr>\n",
       "    <tr>\n",
       "      <th>1976</th>\n",
       "      <td>Li Li</td>\n",
       "      <td>China</td>\n",
       "      <td>pharmaceuticals</td>\n",
       "      <td>1931</td>\n",
       "      <td>1.6</td>\n",
       "    </tr>\n",
       "  </tbody>\n",
       "</table>\n",
       "</div>"
      ],
      "text/plain": [
       "                       Name Country                  Source  Rank  \\\n",
       "1625          Robert Miller  Canada  electronics components  1580   \n",
       "1919  Wang Yanqing & family   China   carbon fiber products  1833   \n",
       "1976                  Li Li   China         pharmaceuticals  1931   \n",
       "\n",
       "      NetWorth ($B)  \n",
       "1625            2.0  \n",
       "1919            1.7  \n",
       "1976            1.6  "
      ]
     },
     "execution_count": 21,
     "metadata": {},
     "output_type": "execute_result"
    }
   ],
   "source": [
    "data[data['Name'].duplicated()]"
   ]
  },
  {
   "cell_type": "markdown",
   "metadata": {},
   "source": [
    "Looks like we have these three duplicated values with us. We can use the same conditional expression only this time we know the names we are looking for. So, now the expression looks something like `data['Name'] == 'Robert Miller'` for instance, where we want to retrieve all rows where the name is Robert Miller. We know it appears at least more than once since it has been marked duplicate. Let's have a look at all our duplicated names. "
   ]
  },
  {
   "cell_type": "code",
   "execution_count": 22,
   "metadata": {},
   "outputs": [
    {
     "data": {
      "text/html": [
       "<div>\n",
       "<style scoped>\n",
       "    .dataframe tbody tr th:only-of-type {\n",
       "        vertical-align: middle;\n",
       "    }\n",
       "\n",
       "    .dataframe tbody tr th {\n",
       "        vertical-align: top;\n",
       "    }\n",
       "\n",
       "    .dataframe thead th {\n",
       "        text-align: right;\n",
       "    }\n",
       "</style>\n",
       "<table border=\"1\" class=\"dataframe\">\n",
       "  <thead>\n",
       "    <tr style=\"text-align: right;\">\n",
       "      <th></th>\n",
       "      <th>Name</th>\n",
       "      <th>Country</th>\n",
       "      <th>Source</th>\n",
       "      <th>Rank</th>\n",
       "      <th>NetWorth ($B)</th>\n",
       "    </tr>\n",
       "  </thead>\n",
       "  <tbody>\n",
       "    <tr>\n",
       "      <th>1331</th>\n",
       "      <td>Robert Miller</td>\n",
       "      <td>United Kingdom</td>\n",
       "      <td>retail</td>\n",
       "      <td>1299</td>\n",
       "      <td>2.4</td>\n",
       "    </tr>\n",
       "    <tr>\n",
       "      <th>1625</th>\n",
       "      <td>Robert Miller</td>\n",
       "      <td>Canada</td>\n",
       "      <td>electronics components</td>\n",
       "      <td>1580</td>\n",
       "      <td>2.0</td>\n",
       "    </tr>\n",
       "  </tbody>\n",
       "</table>\n",
       "</div>"
      ],
      "text/plain": [
       "               Name         Country                  Source  Rank  \\\n",
       "1331  Robert Miller  United Kingdom                  retail  1299   \n",
       "1625  Robert Miller          Canada  electronics components  1580   \n",
       "\n",
       "      NetWorth ($B)  \n",
       "1331            2.4  \n",
       "1625            2.0  "
      ]
     },
     "execution_count": 22,
     "metadata": {},
     "output_type": "execute_result"
    }
   ],
   "source": [
    "data[data['Name'] == 'Robert Miller']"
   ]
  },
  {
   "cell_type": "code",
   "execution_count": 23,
   "metadata": {},
   "outputs": [
    {
     "data": {
      "text/html": [
       "<div>\n",
       "<style scoped>\n",
       "    .dataframe tbody tr th:only-of-type {\n",
       "        vertical-align: middle;\n",
       "    }\n",
       "\n",
       "    .dataframe tbody tr th {\n",
       "        vertical-align: top;\n",
       "    }\n",
       "\n",
       "    .dataframe thead th {\n",
       "        text-align: right;\n",
       "    }\n",
       "</style>\n",
       "<table border=\"1\" class=\"dataframe\">\n",
       "  <thead>\n",
       "    <tr style=\"text-align: right;\">\n",
       "      <th></th>\n",
       "      <th>Name</th>\n",
       "      <th>Country</th>\n",
       "      <th>Source</th>\n",
       "      <th>Rank</th>\n",
       "      <th>NetWorth ($B)</th>\n",
       "    </tr>\n",
       "  </thead>\n",
       "  <tbody>\n",
       "    <tr>\n",
       "      <th>700</th>\n",
       "      <td>Wang Yanqing &amp; family</td>\n",
       "      <td>China</td>\n",
       "      <td>electrical equipment</td>\n",
       "      <td>680</td>\n",
       "      <td>4.2</td>\n",
       "    </tr>\n",
       "    <tr>\n",
       "      <th>1919</th>\n",
       "      <td>Wang Yanqing &amp; family</td>\n",
       "      <td>China</td>\n",
       "      <td>carbon fiber products</td>\n",
       "      <td>1833</td>\n",
       "      <td>1.7</td>\n",
       "    </tr>\n",
       "  </tbody>\n",
       "</table>\n",
       "</div>"
      ],
      "text/plain": [
       "                       Name Country                 Source  Rank  \\\n",
       "700   Wang Yanqing & family   China   electrical equipment   680   \n",
       "1919  Wang Yanqing & family   China  carbon fiber products  1833   \n",
       "\n",
       "      NetWorth ($B)  \n",
       "700             4.2  \n",
       "1919            1.7  "
      ]
     },
     "execution_count": 23,
     "metadata": {},
     "output_type": "execute_result"
    }
   ],
   "source": [
    "data[data['Name'] == 'Wang Yanqing & family']"
   ]
  },
  {
   "cell_type": "code",
   "execution_count": 24,
   "metadata": {},
   "outputs": [
    {
     "data": {
      "text/html": [
       "<div>\n",
       "<style scoped>\n",
       "    .dataframe tbody tr th:only-of-type {\n",
       "        vertical-align: middle;\n",
       "    }\n",
       "\n",
       "    .dataframe tbody tr th {\n",
       "        vertical-align: top;\n",
       "    }\n",
       "\n",
       "    .dataframe thead th {\n",
       "        text-align: right;\n",
       "    }\n",
       "</style>\n",
       "<table border=\"1\" class=\"dataframe\">\n",
       "  <thead>\n",
       "    <tr style=\"text-align: right;\">\n",
       "      <th></th>\n",
       "      <th>Name</th>\n",
       "      <th>Country</th>\n",
       "      <th>Source</th>\n",
       "      <th>Rank</th>\n",
       "      <th>NetWorth ($B)</th>\n",
       "    </tr>\n",
       "  </thead>\n",
       "  <tbody>\n",
       "    <tr>\n",
       "      <th>693</th>\n",
       "      <td>Li Li</td>\n",
       "      <td>China</td>\n",
       "      <td>healthcare</td>\n",
       "      <td>680</td>\n",
       "      <td>4.2</td>\n",
       "    </tr>\n",
       "    <tr>\n",
       "      <th>1976</th>\n",
       "      <td>Li Li</td>\n",
       "      <td>China</td>\n",
       "      <td>pharmaceuticals</td>\n",
       "      <td>1931</td>\n",
       "      <td>1.6</td>\n",
       "    </tr>\n",
       "  </tbody>\n",
       "</table>\n",
       "</div>"
      ],
      "text/plain": [
       "       Name Country           Source  Rank  NetWorth ($B)\n",
       "693   Li Li   China       healthcare   680            4.2\n",
       "1976  Li Li   China  pharmaceuticals  1931            1.6"
      ]
     },
     "execution_count": 24,
     "metadata": {},
     "output_type": "execute_result"
    }
   ],
   "source": [
    "data[data['Name'] == 'Li Li']"
   ]
  },
  {
   "cell_type": "markdown",
   "metadata": {},
   "source": [
    "Now there are two different scenarios here.\n",
    "1. In case of Robert Miller, they are not the same. We notice this because their country, source and networth also differs. Which means they are two different people.\n",
    "2. In case of the other two entries, both have the same country and name however, different source and networths.\n",
    "\n",
    "\n",
    "For 1, we do a quick google search and find out that these are indeed two different people. We have an Canadian Robert Miller[https://en.wikipedia.org/wiki/Robert_Miller_(businessman)] and a American Robert Miller[https://en.wikipedia.org/wiki/Robert_Warren_Miller]\n",
    "\n",
    "For 2, we also do some search and find Forbes mention their rank at 1976[https://www.forbes.com/profile/li-li-2/?sh=7caff2f216d9] for Li Li and at 680[https://www.forbes.com/profile/wang-yanqing/?sh=53096d9240a8] for Wang Yanqing & Family. \n",
    "\n",
    "\n",
    "So our approach to handling duplicates here will be:\n",
    "1. In case of Robert Miller, we will let this be. \n",
    "2. In case of Wang Yanqing & Family, we will drop carbon fiber products entry.\n",
    "3. In case of Li Li, we will drop healthcare entry. "
   ]
  },
  {
   "cell_type": "code",
   "execution_count": 25,
   "metadata": {},
   "outputs": [],
   "source": [
    "# Since we now know that Name is not a unique list (we have two Robert Millers) so we have another problem to deal with.\n",
    "# We will use drop() with argument for index where we will pass the index value of the rows we are about to drop.\n",
    "fixed_data = data.drop(index=[693, 1919])"
   ]
  },
  {
   "cell_type": "markdown",
   "metadata": {},
   "source": [
    "Now we know there is one duplicate name in Name column hence we can no longer use that for total count of billionaire.\n",
    "We will however be able to use .shape since we have catered to the duplicates issue and now the total length correctly reflects the total number of billionaires."
   ]
  },
  {
   "cell_type": "code",
   "execution_count": 26,
   "metadata": {},
   "outputs": [
    {
     "name": "stdout",
     "output_type": "stream",
     "text": [
      "(2753, 5)\n"
     ]
    }
   ],
   "source": [
    "# total billionaires\n",
    "print(fixed_data.shape)"
   ]
  },
  {
   "cell_type": "markdown",
   "metadata": {},
   "source": [
    "# Part 2\n",
    "\n",
    "We will continue with our previous dataset and attempt to answer our questions."
   ]
  },
  {
   "cell_type": "markdown",
   "metadata": {},
   "source": [
    "### Answering Data Questions\n",
    "Re-stating our questions here for ease.\n",
    "1. How many billionaires are there in the list?\n",
    "2. Who are the top 10 billionaire?\n",
    "3. Who are the top billionaire by country of origin?\n",
    "4. What country has the highest number of billionaires?\n",
    "5. What country has the least number of billionaires?\n",
    "6. What is the average and median networth of each billionaire?\n",
    "7. Are there any outliers i.e. billionaires that have exceptionally high networth compared to others?\n",
    "8. For each country, what is the cumulative networth of its billionaires?\n",
    "9. What is the maximum and minimum networth of billionaires overall and by country?\n",
    "10. Are there are any billionaires with the same source of income? "
   ]
  },
  {
   "cell_type": "markdown",
   "metadata": {},
   "source": [
    "Let's have a look at our data set that we have so far cleaned stored in `fixed_data` variable."
   ]
  },
  {
   "cell_type": "code",
   "execution_count": 27,
   "metadata": {},
   "outputs": [
    {
     "data": {
      "text/html": [
       "<div>\n",
       "<style scoped>\n",
       "    .dataframe tbody tr th:only-of-type {\n",
       "        vertical-align: middle;\n",
       "    }\n",
       "\n",
       "    .dataframe tbody tr th {\n",
       "        vertical-align: top;\n",
       "    }\n",
       "\n",
       "    .dataframe thead th {\n",
       "        text-align: right;\n",
       "    }\n",
       "</style>\n",
       "<table border=\"1\" class=\"dataframe\">\n",
       "  <thead>\n",
       "    <tr style=\"text-align: right;\">\n",
       "      <th></th>\n",
       "      <th>Name</th>\n",
       "      <th>Country</th>\n",
       "      <th>Source</th>\n",
       "      <th>Rank</th>\n",
       "      <th>NetWorth ($B)</th>\n",
       "    </tr>\n",
       "  </thead>\n",
       "  <tbody>\n",
       "    <tr>\n",
       "      <th>0</th>\n",
       "      <td>Jeff Bezos</td>\n",
       "      <td>United States</td>\n",
       "      <td>Amazon</td>\n",
       "      <td>1</td>\n",
       "      <td>177.0</td>\n",
       "    </tr>\n",
       "    <tr>\n",
       "      <th>1</th>\n",
       "      <td>Elon Musk</td>\n",
       "      <td>United States</td>\n",
       "      <td>Tesla, SpaceX</td>\n",
       "      <td>2</td>\n",
       "      <td>151.0</td>\n",
       "    </tr>\n",
       "    <tr>\n",
       "      <th>2</th>\n",
       "      <td>Bernard Arnault &amp; family</td>\n",
       "      <td>France</td>\n",
       "      <td>LVMH</td>\n",
       "      <td>3</td>\n",
       "      <td>150.0</td>\n",
       "    </tr>\n",
       "    <tr>\n",
       "      <th>3</th>\n",
       "      <td>Bill Gates</td>\n",
       "      <td>United States</td>\n",
       "      <td>Microsoft</td>\n",
       "      <td>4</td>\n",
       "      <td>124.0</td>\n",
       "    </tr>\n",
       "    <tr>\n",
       "      <th>4</th>\n",
       "      <td>Mark Zuckerberg</td>\n",
       "      <td>United States</td>\n",
       "      <td>Facebook</td>\n",
       "      <td>5</td>\n",
       "      <td>97.0</td>\n",
       "    </tr>\n",
       "  </tbody>\n",
       "</table>\n",
       "</div>"
      ],
      "text/plain": [
       "                       Name        Country         Source  Rank  NetWorth ($B)\n",
       "0                Jeff Bezos  United States         Amazon     1          177.0\n",
       "1                 Elon Musk  United States  Tesla, SpaceX     2          151.0\n",
       "2  Bernard Arnault & family         France           LVMH     3          150.0\n",
       "3                Bill Gates  United States      Microsoft     4          124.0\n",
       "4           Mark Zuckerberg  United States       Facebook     5           97.0"
      ]
     },
     "execution_count": 27,
     "metadata": {},
     "output_type": "execute_result"
    }
   ],
   "source": [
    "fixed_data.head()"
   ]
  },
  {
   "cell_type": "markdown",
   "metadata": {},
   "source": [
    "Q1. How many billionaires are there in the list?\n",
    "\n",
    "Answer: Since we have removed our duplicates and can use .shape to determine the number of rows hence our total billionaires. "
   ]
  },
  {
   "cell_type": "code",
   "execution_count": 28,
   "metadata": {},
   "outputs": [
    {
     "name": "stdout",
     "output_type": "stream",
     "text": [
      "Number of Billionaires in our list:  2753\n"
     ]
    }
   ],
   "source": [
    "print('Number of Billionaires in our list: ', fixed_data.shape[0])"
   ]
  },
  {
   "cell_type": "markdown",
   "metadata": {},
   "source": [
    "Q2. Who are the top 10 billionaires?\n",
    "\n",
    "Answer: Now there are various ways to do this. You can use the `Rank` column and get values that `<= 10`. You could sort the values by `NetWorth` and then either use `head(n)` or index the first ten rows."
   ]
  },
  {
   "cell_type": "code",
   "execution_count": 29,
   "metadata": {},
   "outputs": [
    {
     "data": {
      "text/plain": [
       "0                  Jeff Bezos\n",
       "1                   Elon Musk\n",
       "2    Bernard Arnault & family\n",
       "3                  Bill Gates\n",
       "4             Mark Zuckerberg\n",
       "5              Warren Buffett\n",
       "6               Larry Ellison\n",
       "7                  Larry Page\n",
       "8                 Sergey Brin\n",
       "9               Mukesh Ambani\n",
       "Name: Name, dtype: object"
      ]
     },
     "execution_count": 29,
     "metadata": {},
     "output_type": "execute_result"
    }
   ],
   "source": [
    "# let's use the rank column approach. \n",
    "top_ten = fixed_data[fixed_data['Rank'] <= 10]\n",
    "top_ten['Name']"
   ]
  },
  {
   "cell_type": "markdown",
   "metadata": {},
   "source": [
    "#### nlargest() and nsmallest() functions\n",
    "Another easier way to retrieve top n (or bottom n) values based on a column is to use the `nlargest()` (or the `nsmallest()`) functions on the data frame."
   ]
  },
  {
   "cell_type": "code",
   "execution_count": 30,
   "metadata": {},
   "outputs": [
    {
     "data": {
      "text/plain": [
       "0                  Jeff Bezos\n",
       "1                   Elon Musk\n",
       "2    Bernard Arnault & family\n",
       "3                  Bill Gates\n",
       "4             Mark Zuckerberg\n",
       "5              Warren Buffett\n",
       "6               Larry Ellison\n",
       "7                  Larry Page\n",
       "8                 Sergey Brin\n",
       "9               Mukesh Ambani\n",
       "Name: Name, dtype: object"
      ]
     },
     "execution_count": 30,
     "metadata": {},
     "output_type": "execute_result"
    }
   ],
   "source": [
    "# alternate approach uses nlargest which retrieves all data for the top N values based on the specified column. \n",
    "\n",
    "alt_top_ten = fixed_data.nlargest(10, columns='NetWorth ($B)')\n",
    "alt_top_ten['Name']"
   ]
  },
  {
   "cell_type": "markdown",
   "metadata": {},
   "source": [
    "Try the other approaches on your own and see if you get the same results."
   ]
  },
  {
   "cell_type": "markdown",
   "metadata": {},
   "source": [
    "Q3. Who are the top billionaire by country of origin?\n",
    "\n",
    "Answer: For this we will have to use the groupby function to group our data on set"
   ]
  },
  {
   "cell_type": "code",
   "execution_count": 40,
   "metadata": {},
   "outputs": [
    {
     "data": {
      "text/html": [
       "<div>\n",
       "<style scoped>\n",
       "    .dataframe tbody tr th:only-of-type {\n",
       "        vertical-align: middle;\n",
       "    }\n",
       "\n",
       "    .dataframe tbody tr th {\n",
       "        vertical-align: top;\n",
       "    }\n",
       "\n",
       "    .dataframe thead th {\n",
       "        text-align: right;\n",
       "    }\n",
       "</style>\n",
       "<table border=\"1\" class=\"dataframe\">\n",
       "  <thead>\n",
       "    <tr style=\"text-align: right;\">\n",
       "      <th></th>\n",
       "      <th>Name</th>\n",
       "      <th>Country</th>\n",
       "      <th>Source</th>\n",
       "      <th>Rank</th>\n",
       "      <th>NetWorth ($B)</th>\n",
       "    </tr>\n",
       "  </thead>\n",
       "  <tbody>\n",
       "    <tr>\n",
       "      <th>597</th>\n",
       "      <td>Issad Rebrab &amp; family</td>\n",
       "      <td>Algeria</td>\n",
       "      <td>food</td>\n",
       "      <td>589</td>\n",
       "      <td>4.8</td>\n",
       "    </tr>\n",
       "    <tr>\n",
       "      <th>441</th>\n",
       "      <td>Marcos Galperin</td>\n",
       "      <td>Argentina</td>\n",
       "      <td>e-commerce</td>\n",
       "      <td>440</td>\n",
       "      <td>6.1</td>\n",
       "    </tr>\n",
       "    <tr>\n",
       "      <th>69</th>\n",
       "      <td>Gina Rinehart</td>\n",
       "      <td>Australia</td>\n",
       "      <td>mining</td>\n",
       "      <td>70</td>\n",
       "      <td>23.6</td>\n",
       "    </tr>\n",
       "    <tr>\n",
       "      <th>55</th>\n",
       "      <td>Dietrich Mateschitz</td>\n",
       "      <td>Austria</td>\n",
       "      <td>Red Bull</td>\n",
       "      <td>56</td>\n",
       "      <td>26.9</td>\n",
       "    </tr>\n",
       "    <tr>\n",
       "      <th>228</th>\n",
       "      <td>Eric Wittouck</td>\n",
       "      <td>Belgium</td>\n",
       "      <td>investments</td>\n",
       "      <td>228</td>\n",
       "      <td>10.0</td>\n",
       "    </tr>\n",
       "    <tr>\n",
       "      <th>...</th>\n",
       "      <td>...</td>\n",
       "      <td>...</td>\n",
       "      <td>...</td>\n",
       "      <td>...</td>\n",
       "      <td>...</td>\n",
       "    </tr>\n",
       "    <tr>\n",
       "      <th>112</th>\n",
       "      <td>James Ratcliffe</td>\n",
       "      <td>United Kingdom</td>\n",
       "      <td>chemicals</td>\n",
       "      <td>113</td>\n",
       "      <td>17.0</td>\n",
       "    </tr>\n",
       "    <tr>\n",
       "      <th>0</th>\n",
       "      <td>Jeff Bezos</td>\n",
       "      <td>United States</td>\n",
       "      <td>Amazon</td>\n",
       "      <td>1</td>\n",
       "      <td>177.0</td>\n",
       "    </tr>\n",
       "    <tr>\n",
       "      <th>965</th>\n",
       "      <td>Carlo Fidani</td>\n",
       "      <td>Canada</td>\n",
       "      <td>real estate</td>\n",
       "      <td>956</td>\n",
       "      <td>3.2</td>\n",
       "    </tr>\n",
       "    <tr>\n",
       "      <th>349</th>\n",
       "      <td>Pham Nhat Vuong</td>\n",
       "      <td>Vietnam</td>\n",
       "      <td>diversified</td>\n",
       "      <td>344</td>\n",
       "      <td>7.3</td>\n",
       "    </tr>\n",
       "    <tr>\n",
       "      <th>2089</th>\n",
       "      <td>Lorinc Meszaros</td>\n",
       "      <td>Hungary</td>\n",
       "      <td>diversified</td>\n",
       "      <td>2035</td>\n",
       "      <td>1.5</td>\n",
       "    </tr>\n",
       "  </tbody>\n",
       "</table>\n",
       "<p>70 rows × 5 columns</p>\n",
       "</div>"
      ],
      "text/plain": [
       "                       Name         Country       Source  Rank  NetWorth ($B)\n",
       "597   Issad Rebrab & family         Algeria         food   589            4.8\n",
       "441         Marcos Galperin       Argentina   e-commerce   440            6.1\n",
       "69            Gina Rinehart       Australia       mining    70           23.6\n",
       "55      Dietrich Mateschitz         Austria     Red Bull    56           26.9\n",
       "228           Eric Wittouck         Belgium  investments   228           10.0\n",
       "...                     ...             ...          ...   ...            ...\n",
       "112         James Ratcliffe  United Kingdom    chemicals   113           17.0\n",
       "0                Jeff Bezos   United States       Amazon     1          177.0\n",
       "965            Carlo Fidani          Canada  real estate   956            3.2\n",
       "349         Pham Nhat Vuong         Vietnam  diversified   344            7.3\n",
       "2089        Lorinc Meszaros         Hungary  diversified  2035            1.5\n",
       "\n",
       "[70 rows x 5 columns]"
      ]
     },
     "execution_count": 40,
     "metadata": {},
     "output_type": "execute_result"
    }
   ],
   "source": [
    "# use group by to find the max value for each group\n",
    "country=fixed_data.groupby('Country')['NetWorth ($B)']\n",
    "indexes_we_want=country.idxmax().values\n",
    "fixed_data.iloc[indexes_we_want,:]"
   ]
  },
  {
   "cell_type": "code",
   "execution_count": null,
   "metadata": {},
   "outputs": [],
   "source": []
  },
  {
   "cell_type": "code",
   "execution_count": null,
   "metadata": {},
   "outputs": [],
   "source": []
  },
  {
   "cell_type": "markdown",
   "metadata": {},
   "source": [
    "Q4 and Q5. Which countries have the highest and the lowest number of billionaires?\n",
    "\n",
    "Answer: We will group data by country and then use `.count()` function on the `Name` column."
   ]
  },
  {
   "cell_type": "code",
   "execution_count": 87,
   "metadata": {},
   "outputs": [
    {
     "name": "stdout",
     "output_type": "stream",
     "text": [
      "Country with highest number of billionaires: \n",
      " Country\n",
      "United States    724\n",
      "Name: Name, dtype: int64\n",
      "\n",
      "\n",
      "Country with lowest number of billionaires: \n",
      " Country\n",
      "Algeria    1\n",
      "Name: Name, dtype: int64\n"
     ]
    }
   ],
   "source": [
    "# group data\n",
    "grouped_by_country = fixed_data.groupby('Country')\n",
    "# use .count() function on Name column\n",
    "country_count = grouped_by_country['Name'].count()\n",
    "\n",
    "# now we need to access the highest and the lowest values. Let's use nlargest and nsmallest()\n",
    "print('Country with highest number of billionaires: \\n', country_count.nlargest(1))\n",
    "print('\\n')\n",
    "print('Country with lowest number of billionaires: \\n', country_count.nsmallest(1))"
   ]
  },
  {
   "cell_type": "code",
   "execution_count": 91,
   "metadata": {},
   "outputs": [
    {
     "name": "stdout",
     "output_type": "stream",
     "text": [
      "Highest Billionaires are in United States which are 724\n",
      "Least Billionaires are in Algeria which are 1\n"
     ]
    }
   ],
   "source": [
    "print('Highest Billionaires are in', country_count.idxmax(), 'which are', country_count.max())\n",
    "\n",
    "print('Least Billionaires are in', country_count.idxmin(), 'which are', country_count.min())"
   ]
  },
  {
   "cell_type": "markdown",
   "metadata": {},
   "source": [
    "Q6. What is the average and median networth of each country's billionaires?\n",
    "\n",
    "Answer: We will again group data by countries and then use mean and median on NetWorth columns"
   ]
  },
  {
   "cell_type": "code",
   "execution_count": 99,
   "metadata": {},
   "outputs": [
    {
     "data": {
      "text/plain": [
       "Country\n",
       "Algeria      4.800000\n",
       "Argentina    3.060000\n",
       "Australia    4.125000\n",
       "Austria      5.225000\n",
       "Belgium      4.200000\n",
       "Brazil       3.256923\n",
       "Canada       3.610937\n",
       "Chile        4.744444\n",
       "China        4.048077\n",
       "Colombia     5.240000\n",
       "Name: NetWorth ($B), dtype: float64"
      ]
     },
     "execution_count": 99,
     "metadata": {},
     "output_type": "execute_result"
    }
   ],
   "source": [
    "# group data by country\n",
    "grouped_by_country = fixed_data.groupby('Country')\n",
    "\n",
    "# get average networth \n",
    "mean_networth = grouped_by_country['NetWorth ($B)'].mean()\n",
    "\n",
    "mean_networth.head(10)"
   ]
  },
  {
   "cell_type": "code",
   "execution_count": 98,
   "metadata": {},
   "outputs": [
    {
     "data": {
      "text/plain": [
       "Country\n",
       "Algeria      4.80\n",
       "Argentina    2.40\n",
       "Australia    2.30\n",
       "Austria      2.90\n",
       "Belgium      1.50\n",
       "Brazil       2.20\n",
       "Canada       2.15\n",
       "Chile        2.40\n",
       "China        2.00\n",
       "Colombia     3.90\n",
       "Name: NetWorth ($B), dtype: float64"
      ]
     },
     "execution_count": 98,
     "metadata": {},
     "output_type": "execute_result"
    }
   ],
   "source": [
    "# get median networth \n",
    "median_networth = grouped_by_country['NetWorth ($B)'].median()\n",
    "\n",
    "median_networth.head(10)"
   ]
  },
  {
   "cell_type": "markdown",
   "metadata": {},
   "source": [
    "#### Food for Thought\n",
    "\n",
    "You will notice that for some countries median and mean are the same while for others they may be different. Why do you think is that?"
   ]
  },
  {
   "cell_type": "markdown",
   "metadata": {},
   "source": [
    "Q7 and Q8: Are there any outliers i.e. billionaires that have exceptionally high networth compared to others? For each country, what is the cumulative networth of its billionaires?\n",
    "\n",
    "Answer: We can answer these questions together. First let's tackle Q8 i.e. cumulative networths by each country. This is relatively simple. AS we computed median and mean, we simply need to use the `sum()` function instead after grouping by `Country`."
   ]
  },
  {
   "cell_type": "code",
   "execution_count": 103,
   "metadata": {
    "scrolled": true
   },
   "outputs": [
    {
     "data": {
      "text/plain": [
       "Country\n",
       "United States     4398.4\n",
       "China             2526.0\n",
       "Germany            625.5\n",
       "India              596.4\n",
       "Russia             586.0\n",
       "France             512.2\n",
       "Hong Kong          448.2\n",
       "Canada             231.1\n",
       "Japan              225.4\n",
       "United Kingdom     213.9\n",
       "Name: NetWorth ($B), dtype: float64"
      ]
     },
     "execution_count": 103,
     "metadata": {},
     "output_type": "execute_result"
    }
   ],
   "source": [
    "# group data by country\n",
    "grouped_by_country = fixed_data.groupby('Country')\n",
    "\n",
    "# generate total wealth by country\n",
    "cum_wealth = grouped_by_country['NetWorth ($B)'].sum()\n",
    "\n",
    "\n",
    "cum_wealth.nlargest(10)"
   ]
  },
  {
   "cell_type": "markdown",
   "metadata": {},
   "source": [
    "Now back to Q7. Outliers are values that are generally far off from the general dataset, something that skews the mean. \n",
    "For instance, in an undergrad first year class, you would normally expect students to be of age 17-19. However, if there is one new student aged 35 there, it would be regarded as an outlier. \n",
    "We will learn more about these measures in a later section however for now this definition should suffice. \n",
    "\n",
    "One way to detect outliers is by using quantiles. Quantiles is a way of dividing data into equally cut portions based on the data such that highest quantile contains highest values of the data and vice versa for lowest. The values of quantiles are represented in percentages between 0% to 100% (or between 0 to 1). Normally, if a dataset contains outliers, you can compute the mean and median and if the values are significantly different, then you can compute the quantile to see what the highest values are. You could also simply use nlargest() to find the largest values of the dataset but that requires a bit of trial and error to find the right value of n since the number of outliers is unknown.\n",
    "\n",
    "\n",
    "For us, highest values are generally outliers so we will use 0.99 as our value for quantile which means show us the breakpoint where top 1% of the highest value are. Similarly, we can also use 0.95 for breakpoint for top 5% of the data and so on."
   ]
  },
  {
   "cell_type": "code",
   "execution_count": 108,
   "metadata": {},
   "outputs": [
    {
     "data": {
      "text/html": [
       "<div>\n",
       "<style scoped>\n",
       "    .dataframe tbody tr th:only-of-type {\n",
       "        vertical-align: middle;\n",
       "    }\n",
       "\n",
       "    .dataframe tbody tr th {\n",
       "        vertical-align: top;\n",
       "    }\n",
       "\n",
       "    .dataframe thead th {\n",
       "        text-align: right;\n",
       "    }\n",
       "</style>\n",
       "<table border=\"1\" class=\"dataframe\">\n",
       "  <thead>\n",
       "    <tr style=\"text-align: right;\">\n",
       "      <th></th>\n",
       "      <th>Name</th>\n",
       "      <th>Country</th>\n",
       "      <th>Source</th>\n",
       "      <th>Rank</th>\n",
       "      <th>NetWorth ($B)</th>\n",
       "    </tr>\n",
       "  </thead>\n",
       "  <tbody>\n",
       "    <tr>\n",
       "      <th>0</th>\n",
       "      <td>Jeff Bezos</td>\n",
       "      <td>United States</td>\n",
       "      <td>Amazon</td>\n",
       "      <td>1</td>\n",
       "      <td>177.0</td>\n",
       "    </tr>\n",
       "    <tr>\n",
       "      <th>1</th>\n",
       "      <td>Elon Musk</td>\n",
       "      <td>United States</td>\n",
       "      <td>Tesla, SpaceX</td>\n",
       "      <td>2</td>\n",
       "      <td>151.0</td>\n",
       "    </tr>\n",
       "    <tr>\n",
       "      <th>2</th>\n",
       "      <td>Bernard Arnault &amp; family</td>\n",
       "      <td>France</td>\n",
       "      <td>LVMH</td>\n",
       "      <td>3</td>\n",
       "      <td>150.0</td>\n",
       "    </tr>\n",
       "    <tr>\n",
       "      <th>3</th>\n",
       "      <td>Bill Gates</td>\n",
       "      <td>United States</td>\n",
       "      <td>Microsoft</td>\n",
       "      <td>4</td>\n",
       "      <td>124.0</td>\n",
       "    </tr>\n",
       "    <tr>\n",
       "      <th>4</th>\n",
       "      <td>Mark Zuckerberg</td>\n",
       "      <td>United States</td>\n",
       "      <td>Facebook</td>\n",
       "      <td>5</td>\n",
       "      <td>97.0</td>\n",
       "    </tr>\n",
       "    <tr>\n",
       "      <th>5</th>\n",
       "      <td>Warren Buffett</td>\n",
       "      <td>United States</td>\n",
       "      <td>Berkshire Hathaway</td>\n",
       "      <td>6</td>\n",
       "      <td>96.0</td>\n",
       "    </tr>\n",
       "    <tr>\n",
       "      <th>6</th>\n",
       "      <td>Larry Ellison</td>\n",
       "      <td>United States</td>\n",
       "      <td>software</td>\n",
       "      <td>7</td>\n",
       "      <td>93.0</td>\n",
       "    </tr>\n",
       "    <tr>\n",
       "      <th>7</th>\n",
       "      <td>Larry Page</td>\n",
       "      <td>United States</td>\n",
       "      <td>Google</td>\n",
       "      <td>8</td>\n",
       "      <td>91.5</td>\n",
       "    </tr>\n",
       "    <tr>\n",
       "      <th>8</th>\n",
       "      <td>Sergey Brin</td>\n",
       "      <td>United States</td>\n",
       "      <td>Google</td>\n",
       "      <td>9</td>\n",
       "      <td>89.0</td>\n",
       "    </tr>\n",
       "    <tr>\n",
       "      <th>9</th>\n",
       "      <td>Mukesh Ambani</td>\n",
       "      <td>India</td>\n",
       "      <td>diversified</td>\n",
       "      <td>10</td>\n",
       "      <td>84.5</td>\n",
       "    </tr>\n",
       "    <tr>\n",
       "      <th>10</th>\n",
       "      <td>Amancio Ortega</td>\n",
       "      <td>Spain</td>\n",
       "      <td>Zara</td>\n",
       "      <td>11</td>\n",
       "      <td>77.0</td>\n",
       "    </tr>\n",
       "    <tr>\n",
       "      <th>11</th>\n",
       "      <td>Francoise Bettencourt Meyers &amp; family</td>\n",
       "      <td>France</td>\n",
       "      <td>L'Oréal</td>\n",
       "      <td>12</td>\n",
       "      <td>73.6</td>\n",
       "    </tr>\n",
       "    <tr>\n",
       "      <th>12</th>\n",
       "      <td>Zhong Shanshan</td>\n",
       "      <td>China</td>\n",
       "      <td>beverages, pharmaceuticals</td>\n",
       "      <td>13</td>\n",
       "      <td>68.9</td>\n",
       "    </tr>\n",
       "    <tr>\n",
       "      <th>13</th>\n",
       "      <td>Steve Ballmer</td>\n",
       "      <td>United States</td>\n",
       "      <td>Microsoft</td>\n",
       "      <td>14</td>\n",
       "      <td>68.7</td>\n",
       "    </tr>\n",
       "    <tr>\n",
       "      <th>14</th>\n",
       "      <td>Ma Huateng</td>\n",
       "      <td>China</td>\n",
       "      <td>internet media</td>\n",
       "      <td>15</td>\n",
       "      <td>65.8</td>\n",
       "    </tr>\n",
       "    <tr>\n",
       "      <th>15</th>\n",
       "      <td>Carlos Slim Helu &amp; family</td>\n",
       "      <td>Mexico</td>\n",
       "      <td>telecom</td>\n",
       "      <td>16</td>\n",
       "      <td>62.8</td>\n",
       "    </tr>\n",
       "    <tr>\n",
       "      <th>16</th>\n",
       "      <td>Alice Walton</td>\n",
       "      <td>United States</td>\n",
       "      <td>Walmart</td>\n",
       "      <td>17</td>\n",
       "      <td>61.8</td>\n",
       "    </tr>\n",
       "    <tr>\n",
       "      <th>17</th>\n",
       "      <td>Jim Walton</td>\n",
       "      <td>United States</td>\n",
       "      <td>Walmart</td>\n",
       "      <td>18</td>\n",
       "      <td>60.2</td>\n",
       "    </tr>\n",
       "    <tr>\n",
       "      <th>18</th>\n",
       "      <td>Rob Walton</td>\n",
       "      <td>United States</td>\n",
       "      <td>Walmart</td>\n",
       "      <td>19</td>\n",
       "      <td>59.5</td>\n",
       "    </tr>\n",
       "    <tr>\n",
       "      <th>19</th>\n",
       "      <td>Michael Bloomberg</td>\n",
       "      <td>United States</td>\n",
       "      <td>Bloomberg LP</td>\n",
       "      <td>20</td>\n",
       "      <td>59.0</td>\n",
       "    </tr>\n",
       "    <tr>\n",
       "      <th>20</th>\n",
       "      <td>Colin Zheng Huang</td>\n",
       "      <td>China</td>\n",
       "      <td>e-commerce</td>\n",
       "      <td>21</td>\n",
       "      <td>55.3</td>\n",
       "    </tr>\n",
       "    <tr>\n",
       "      <th>21</th>\n",
       "      <td>MacKenzie Scott</td>\n",
       "      <td>United States</td>\n",
       "      <td>Amazon</td>\n",
       "      <td>22</td>\n",
       "      <td>53.0</td>\n",
       "    </tr>\n",
       "    <tr>\n",
       "      <th>22</th>\n",
       "      <td>Daniel Gilbert</td>\n",
       "      <td>United States</td>\n",
       "      <td>Quicken Loans</td>\n",
       "      <td>23</td>\n",
       "      <td>51.9</td>\n",
       "    </tr>\n",
       "    <tr>\n",
       "      <th>23</th>\n",
       "      <td>Gautam Adani &amp; family</td>\n",
       "      <td>India</td>\n",
       "      <td>infrastructure, commodities</td>\n",
       "      <td>24</td>\n",
       "      <td>50.5</td>\n",
       "    </tr>\n",
       "    <tr>\n",
       "      <th>24</th>\n",
       "      <td>Phil Knight &amp; family</td>\n",
       "      <td>United States</td>\n",
       "      <td>Nike</td>\n",
       "      <td>25</td>\n",
       "      <td>49.9</td>\n",
       "    </tr>\n",
       "    <tr>\n",
       "      <th>25</th>\n",
       "      <td>Jack Ma</td>\n",
       "      <td>China</td>\n",
       "      <td>e-commerce</td>\n",
       "      <td>26</td>\n",
       "      <td>48.4</td>\n",
       "    </tr>\n",
       "    <tr>\n",
       "      <th>26</th>\n",
       "      <td>Charles Koch</td>\n",
       "      <td>United States</td>\n",
       "      <td>Koch Industries</td>\n",
       "      <td>27</td>\n",
       "      <td>46.4</td>\n",
       "    </tr>\n",
       "    <tr>\n",
       "      <th>27</th>\n",
       "      <td>Julia Koch &amp; family</td>\n",
       "      <td>United States</td>\n",
       "      <td>Koch Industries</td>\n",
       "      <td>27</td>\n",
       "      <td>46.4</td>\n",
       "    </tr>\n",
       "  </tbody>\n",
       "</table>\n",
       "</div>"
      ],
      "text/plain": [
       "                                     Name        Country  \\\n",
       "0                              Jeff Bezos  United States   \n",
       "1                               Elon Musk  United States   \n",
       "2                Bernard Arnault & family         France   \n",
       "3                              Bill Gates  United States   \n",
       "4                         Mark Zuckerberg  United States   \n",
       "5                          Warren Buffett  United States   \n",
       "6                           Larry Ellison  United States   \n",
       "7                              Larry Page  United States   \n",
       "8                             Sergey Brin  United States   \n",
       "9                           Mukesh Ambani          India   \n",
       "10                         Amancio Ortega          Spain   \n",
       "11  Francoise Bettencourt Meyers & family         France   \n",
       "12                         Zhong Shanshan          China   \n",
       "13                          Steve Ballmer  United States   \n",
       "14                             Ma Huateng          China   \n",
       "15              Carlos Slim Helu & family         Mexico   \n",
       "16                           Alice Walton  United States   \n",
       "17                             Jim Walton  United States   \n",
       "18                             Rob Walton  United States   \n",
       "19                      Michael Bloomberg  United States   \n",
       "20                      Colin Zheng Huang          China   \n",
       "21                        MacKenzie Scott  United States   \n",
       "22                         Daniel Gilbert  United States   \n",
       "23                  Gautam Adani & family          India   \n",
       "24                   Phil Knight & family  United States   \n",
       "25                                Jack Ma          China   \n",
       "26                           Charles Koch  United States   \n",
       "27                    Julia Koch & family  United States   \n",
       "\n",
       "                         Source  Rank  NetWorth ($B)  \n",
       "0                        Amazon     1          177.0  \n",
       "1                 Tesla, SpaceX     2          151.0  \n",
       "2                          LVMH     3          150.0  \n",
       "3                     Microsoft     4          124.0  \n",
       "4                      Facebook     5           97.0  \n",
       "5            Berkshire Hathaway     6           96.0  \n",
       "6                      software     7           93.0  \n",
       "7                        Google     8           91.5  \n",
       "8                        Google     9           89.0  \n",
       "9                   diversified    10           84.5  \n",
       "10                         Zara    11           77.0  \n",
       "11                      L'Oréal    12           73.6  \n",
       "12   beverages, pharmaceuticals    13           68.9  \n",
       "13                    Microsoft    14           68.7  \n",
       "14               internet media    15           65.8  \n",
       "15                      telecom    16           62.8  \n",
       "16                      Walmart    17           61.8  \n",
       "17                      Walmart    18           60.2  \n",
       "18                      Walmart    19           59.5  \n",
       "19                 Bloomberg LP    20           59.0  \n",
       "20                   e-commerce    21           55.3  \n",
       "21                       Amazon    22           53.0  \n",
       "22                Quicken Loans    23           51.9  \n",
       "23  infrastructure, commodities    24           50.5  \n",
       "24                         Nike    25           49.9  \n",
       "25                   e-commerce    26           48.4  \n",
       "26              Koch Industries    27           46.4  \n",
       "27              Koch Industries    27           46.4  "
      ]
     },
     "execution_count": 108,
     "metadata": {},
     "output_type": "execute_result"
    }
   ],
   "source": [
    "# we need to find the quantile for entire dataset\n",
    "top_1_pct = fixed_data['NetWorth ($B)'].quantile(0.99)\n",
    "\n",
    "# subset data to retrieve networth greater than these values\n",
    "fixed_data[fixed_data['NetWorth ($B)'] > top_1_pct]"
   ]
  },
  {
   "cell_type": "markdown",
   "metadata": {},
   "source": [
    "We have a total of 2753 values and 1% of the data is 27 values. That is what we get. Notice how the top 4 values are significantly larger compared to the rest of the values for Net Worth. Now that we know that the top 4 are the outlier-ish values, we can use the `nlargest()` to obtain the top 4."
   ]
  },
  {
   "cell_type": "code",
   "execution_count": 110,
   "metadata": {},
   "outputs": [
    {
     "name": "stdout",
     "output_type": "stream",
     "text": [
      "Outliers in the dataset are as follows\n"
     ]
    },
    {
     "data": {
      "text/html": [
       "<div>\n",
       "<style scoped>\n",
       "    .dataframe tbody tr th:only-of-type {\n",
       "        vertical-align: middle;\n",
       "    }\n",
       "\n",
       "    .dataframe tbody tr th {\n",
       "        vertical-align: top;\n",
       "    }\n",
       "\n",
       "    .dataframe thead th {\n",
       "        text-align: right;\n",
       "    }\n",
       "</style>\n",
       "<table border=\"1\" class=\"dataframe\">\n",
       "  <thead>\n",
       "    <tr style=\"text-align: right;\">\n",
       "      <th></th>\n",
       "      <th>Name</th>\n",
       "      <th>Country</th>\n",
       "      <th>Source</th>\n",
       "      <th>Rank</th>\n",
       "      <th>NetWorth ($B)</th>\n",
       "    </tr>\n",
       "  </thead>\n",
       "  <tbody>\n",
       "    <tr>\n",
       "      <th>0</th>\n",
       "      <td>Jeff Bezos</td>\n",
       "      <td>United States</td>\n",
       "      <td>Amazon</td>\n",
       "      <td>1</td>\n",
       "      <td>177.0</td>\n",
       "    </tr>\n",
       "    <tr>\n",
       "      <th>1</th>\n",
       "      <td>Elon Musk</td>\n",
       "      <td>United States</td>\n",
       "      <td>Tesla, SpaceX</td>\n",
       "      <td>2</td>\n",
       "      <td>151.0</td>\n",
       "    </tr>\n",
       "    <tr>\n",
       "      <th>2</th>\n",
       "      <td>Bernard Arnault &amp; family</td>\n",
       "      <td>France</td>\n",
       "      <td>LVMH</td>\n",
       "      <td>3</td>\n",
       "      <td>150.0</td>\n",
       "    </tr>\n",
       "    <tr>\n",
       "      <th>3</th>\n",
       "      <td>Bill Gates</td>\n",
       "      <td>United States</td>\n",
       "      <td>Microsoft</td>\n",
       "      <td>4</td>\n",
       "      <td>124.0</td>\n",
       "    </tr>\n",
       "  </tbody>\n",
       "</table>\n",
       "</div>"
      ],
      "text/plain": [
       "                       Name        Country         Source  Rank  NetWorth ($B)\n",
       "0                Jeff Bezos  United States         Amazon     1          177.0\n",
       "1                 Elon Musk  United States  Tesla, SpaceX     2          151.0\n",
       "2  Bernard Arnault & family         France           LVMH     3          150.0\n",
       "3                Bill Gates  United States      Microsoft     4          124.0"
      ]
     },
     "execution_count": 110,
     "metadata": {},
     "output_type": "execute_result"
    }
   ],
   "source": [
    "# get the outlier values\n",
    "print(\"Outliers in the dataset are as follows\")\n",
    "fixed_data.nlargest(4, columns='NetWorth ($B)')"
   ]
  },
  {
   "cell_type": "markdown",
   "metadata": {},
   "source": [
    "Q9.What is the maximum and minimum networth of billionaires overall and by country?\n",
    "\n",
    "Answer: For overall, we can simply call the `.max()` and `.min()` functions on our dataset. For country wise, we can do the same after grouping data by country.\n",
    "\n",
    "Are there are any billionaires with the same source of income?"
   ]
  },
  {
   "cell_type": "code",
   "execution_count": 113,
   "metadata": {},
   "outputs": [
    {
     "name": "stdout",
     "output_type": "stream",
     "text": [
      "Highest NetWorth of a Billionaire is 177.0 $B\n",
      "Lowest NetWorth of a Billionaire is 1.0 $B\n"
     ]
    }
   ],
   "source": [
    "# find max and min overall\n",
    "print('Highest NetWorth of a Billionaire is', fixed_data['NetWorth ($B)'].max(), '$B')\n",
    "print('Lowest NetWorth of a Billionaire is', fixed_data['NetWorth ($B)'].min(), '$B')"
   ]
  },
  {
   "cell_type": "code",
   "execution_count": 117,
   "metadata": {},
   "outputs": [
    {
     "data": {
      "text/plain": [
       "Country\n",
       "Algeria             4.8\n",
       "Argentina           6.1\n",
       "Australia          23.6\n",
       "Austria            26.9\n",
       "Belgium            10.0\n",
       "                  ...  \n",
       "United Kingdom     17.0\n",
       "United States     177.0\n",
       "Venezuela           3.2\n",
       "Vietnam             7.3\n",
       "Zimbabwe            1.5\n",
       "Name: NetWorth ($B), Length: 70, dtype: float64"
      ]
     },
     "execution_count": 117,
     "metadata": {},
     "output_type": "execute_result"
    }
   ],
   "source": [
    "# find max and min by country\n",
    "# group data \n",
    "grouped_by_country = fixed_data.groupby('Country')\n",
    "# get max billionaire wealth per country and sort countries\n",
    "grouped_by_country['NetWorth ($B)'].max().sort_index()"
   ]
  },
  {
   "cell_type": "code",
   "execution_count": 118,
   "metadata": {},
   "outputs": [
    {
     "data": {
      "text/plain": [
       "Country\n",
       "Algeria           4.8\n",
       "Argentina         1.3\n",
       "Australia         1.0\n",
       "Austria           1.1\n",
       "Belgium           1.1\n",
       "                 ... \n",
       "United Kingdom    1.0\n",
       "United States     1.0\n",
       "Venezuela         3.2\n",
       "Vietnam           1.2\n",
       "Zimbabwe          1.5\n",
       "Name: NetWorth ($B), Length: 70, dtype: float64"
      ]
     },
     "execution_count": 118,
     "metadata": {},
     "output_type": "execute_result"
    }
   ],
   "source": [
    "# get max billionaire wealth per country and sort countries \n",
    "grouped_by_country['NetWorth ($B)'].min().sort_index()"
   ]
  },
  {
   "cell_type": "markdown",
   "metadata": {},
   "source": [
    "Q10. Are there are any billionaires with the same source of income?\n",
    "\n",
    "Answer: For this purpose, we can group data by source of income and then count billionaires in each section. After that sort by highest to lowest to see billionaires that have the same source of income and what exactly is that source."
   ]
  },
  {
   "cell_type": "code",
   "execution_count": 122,
   "metadata": {},
   "outputs": [
    {
     "data": {
      "text/plain": [
       "Source\n",
       "real estate                  171\n",
       "pharmaceuticals               99\n",
       "investments                   90\n",
       "diversified                   85\n",
       "software                      62\n",
       "                            ... \n",
       "hotels, energy                 1\n",
       "hotels, diversified            1\n",
       "supermarkets, investments      1\n",
       "hospitals, health care         1\n",
       "3D printing                    1\n",
       "Name: Name, Length: 923, dtype: int64"
      ]
     },
     "execution_count": 122,
     "metadata": {},
     "output_type": "execute_result"
    }
   ],
   "source": [
    "# group by source of income\n",
    "group_by_source = fixed_data.groupby('Source')\n",
    "# count the billionaires using name \n",
    "source_count = group_by_source['Name'].count()\n",
    "# sort by highest to lowest count \n",
    "source_count.sort_values(ascending=False)"
   ]
  },
  {
   "cell_type": "markdown",
   "metadata": {},
   "source": [
    "Based on our calculations, the top 3 sources for becoming billionaires appear to be:\n",
    "1. Real Estate \n",
    "2. Pharmaceuticals \n",
    "3. Investments \n",
    "\n",
    "\n",
    "Do you belong to any of these fields?"
   ]
  }
 ],
 "metadata": {
  "kernelspec": {
   "display_name": "Python 3",
   "language": "python",
   "name": "python3"
  },
  "language_info": {
   "codemirror_mode": {
    "name": "ipython",
    "version": 3
   },
   "file_extension": ".py",
   "mimetype": "text/x-python",
   "name": "python",
   "nbconvert_exporter": "python",
   "pygments_lexer": "ipython3",
   "version": "3.8.8"
  }
 },
 "nbformat": 4,
 "nbformat_minor": 4
}
